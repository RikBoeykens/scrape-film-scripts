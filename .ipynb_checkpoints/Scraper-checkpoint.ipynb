{
 "cells": [
  {
   "cell_type": "code",
   "execution_count": 1,
   "metadata": {},
   "outputs": [],
   "source": [
    "import os\n",
    "from urllib.parse import quote\n",
    "\n",
    "from bs4 import BeautifulSoup\n",
    "import requests\n",
    "\n",
    "BASE_URL = 'http://www.imsdb.com'\n",
    "corpus_path = 'C:/Users/Rik/Documents/corpus/'\n",
    "scripts_path = 'imsdb_parsed'\n",
    "\n",
    "\n",
    "def clean_script(text):\n",
    "    text = text.replace('Back to IMSDb', '')\n",
    "    text = text.replace('''<b><!--\n",
    "</b>if (window!= top)\n",
    "top.location.href=location.href\n",
    "<b>// -->\n",
    "</b>\n",
    "''', '')\n",
    "    text = text.replace('''          Scanned by http://freemoviescripts.com\n",
    "          Formatting by http://simplyscripts.home.att.net\n",
    "''', '')\n",
    "    return text.replace(r'\\r', '')\n",
    "\n",
    "\n",
    "def get_script(relative_link):\n",
    "    tail = relative_link.split('/')[-1]\n",
    "    print('fetching %s' % tail)\n",
    "    script_front_url = BASE_URL + quote(relative_link)\n",
    "    front_page_response = requests.get(script_front_url)\n",
    "    front_soup = BeautifulSoup(front_page_response.text, \"html.parser\")\n",
    "\n",
    "    try:\n",
    "        script_link = front_soup.find_all('p', align=\"center\")[0].a['href']\n",
    "    except IndexError:\n",
    "        print('%s has no script :(' % tail)\n",
    "        return None, None\n",
    "\n",
    "    if script_link.endswith('.html'):\n",
    "        title = script_link.split('/')[-1].split(' Script')[0]\n",
    "        script_url = BASE_URL + script_link\n",
    "        script_soup = BeautifulSoup(requests.get(script_url).text, \"html.parser\")\n",
    "        script_text = script_soup.find_all('td', {'class': \"scrtext\"})[0].get_text()\n",
    "        script_text = clean_script(script_text)\n",
    "        return title, script_text\n",
    "    else:\n",
    "        print('%s is a pdf :(' % tail)\n",
    "        return None, None"
   ]
  },
  {
   "cell_type": "code",
   "execution_count": 2,
   "metadata": {},
   "outputs": [
    {
     "name": "stdout",
     "output_type": "stream",
     "text": [
      "fetching 10 Things I Hate About You Script.html\n"
     ]
    },
    {
     "ename": "FileNotFoundError",
     "evalue": "[Errno 2] No such file or directory: 'scripts\\\\10-Things-I-Hate-About-You.txt'",
     "output_type": "error",
     "traceback": [
      "\u001b[1;31m---------------------------------------------------------------------------\u001b[0m",
      "\u001b[1;31mFileNotFoundError\u001b[0m                         Traceback (most recent call last)",
      "\u001b[1;32m<ipython-input-2-6a12bba9a45c>\u001b[0m in \u001b[0;36m<module>\u001b[1;34m\u001b[0m\n\u001b[0;32m     11\u001b[0m         \u001b[1;32mcontinue\u001b[0m\u001b[1;33m\u001b[0m\u001b[1;33m\u001b[0m\u001b[0m\n\u001b[0;32m     12\u001b[0m \u001b[1;33m\u001b[0m\u001b[0m\n\u001b[1;32m---> 13\u001b[1;33m     \u001b[1;32mwith\u001b[0m \u001b[0mopen\u001b[0m\u001b[1;33m(\u001b[0m\u001b[0mos\u001b[0m\u001b[1;33m.\u001b[0m\u001b[0mpath\u001b[0m\u001b[1;33m.\u001b[0m\u001b[0mjoin\u001b[0m\u001b[1;33m(\u001b[0m\u001b[0mSCRIPTS_DIR\u001b[0m\u001b[1;33m,\u001b[0m \u001b[0mtitle\u001b[0m\u001b[1;33m.\u001b[0m\u001b[0mstrip\u001b[0m\u001b[1;33m(\u001b[0m\u001b[1;34m'.html'\u001b[0m\u001b[1;33m)\u001b[0m \u001b[1;33m+\u001b[0m \u001b[1;34m'.txt'\u001b[0m\u001b[1;33m)\u001b[0m\u001b[1;33m,\u001b[0m \u001b[1;34m'w'\u001b[0m\u001b[1;33m)\u001b[0m \u001b[1;32mas\u001b[0m \u001b[0moutfile\u001b[0m\u001b[1;33m:\u001b[0m\u001b[1;33m\u001b[0m\u001b[1;33m\u001b[0m\u001b[0m\n\u001b[0m\u001b[0;32m     14\u001b[0m         \u001b[0moutfile\u001b[0m\u001b[1;33m.\u001b[0m\u001b[0mwrite\u001b[0m\u001b[1;33m(\u001b[0m\u001b[0mscript\u001b[0m\u001b[1;33m)\u001b[0m\u001b[1;33m\u001b[0m\u001b[1;33m\u001b[0m\u001b[0m\n",
      "\u001b[1;31mFileNotFoundError\u001b[0m: [Errno 2] No such file or directory: 'scripts\\\\10-Things-I-Hate-About-You.txt'"
     ]
    }
   ],
   "source": [
    "response = requests.get('http://www.imsdb.com/all%20scripts/')\n",
    "html = response.text\n",
    "\n",
    "soup = BeautifulSoup(html, \"html.parser\")\n",
    "paragraphs = soup.find_all('p')\n",
    "\n",
    "for p in paragraphs:\n",
    "    relative_link = p.a['href']\n",
    "    title, script = get_script(relative_link)\n",
    "    if not script:\n",
    "        continue\n",
    "\n",
    "    with open(os.path.join(SCRIPTS_DIR, title.strip('.html') + '.txt'), 'w') as outfile:\n",
    "        outfile.write(script)"
   ]
  },
  {
   "cell_type": "code",
   "execution_count": null,
   "metadata": {},
   "outputs": [],
   "source": []
  }
 ],
 "metadata": {
  "kernelspec": {
   "display_name": "Python 3",
   "language": "python",
   "name": "python3"
  },
  "language_info": {
   "codemirror_mode": {
    "name": "ipython",
    "version": 3
   },
   "file_extension": ".py",
   "mimetype": "text/x-python",
   "name": "python",
   "nbconvert_exporter": "python",
   "pygments_lexer": "ipython3",
   "version": "3.7.3"
  }
 },
 "nbformat": 4,
 "nbformat_minor": 2
}
