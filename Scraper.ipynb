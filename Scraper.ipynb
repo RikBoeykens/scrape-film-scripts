{
 "cells": [
  {
   "cell_type": "code",
   "execution_count": 3,
   "metadata": {},
   "outputs": [],
   "source": [
    "import os\n",
    "from urllib.parse import quote\n",
    "\n",
    "from bs4 import BeautifulSoup\n",
    "import requests\n",
    "\n",
    "BASE_URL = 'http://www.imsdb.com'\n",
    "corpus_path = 'C:/Users/Rik/Documents/corpus/'\n",
    "scripts_path = 'imsdb_parsed'"
   ]
  },
  {
   "cell_type": "code",
   "execution_count": 4,
   "metadata": {},
   "outputs": [],
   "source": [
    "def clean_script(text):\n",
    "    text = text.replace('Back to IMSDb', '')\n",
    "    text = text.replace('''<b><!--\n",
    "</b>if (window!= top)\n",
    "top.location.href=location.href\n",
    "<b>// -->\n",
    "</b>\n",
    "''', '')\n",
    "    text = text.replace('''          Scanned by http://freemoviescripts.com\n",
    "          Formatting by http://simplyscripts.home.att.net\n",
    "''', '')\n",
    "    return text.replace(r'\\r', '')"
   ]
  },
  {
   "cell_type": "code",
   "execution_count": 5,
   "metadata": {},
   "outputs": [],
   "source": [
    "def get_script(relative_link):\n",
    "    tail = relative_link.split('/')[-1]\n",
    "    print('fetching %s' % tail)\n",
    "    script_front_url = BASE_URL + quote(relative_link)\n",
    "    front_page_response = requests.get(script_front_url)\n",
    "    front_soup = BeautifulSoup(front_page_response.text, \"html.parser\")\n",
    "\n",
    "    try:\n",
    "        script_link = front_soup.find_all('p', align=\"center\")[0].a['href']\n",
    "    except IndexError:\n",
    "        print('%s has no script :(' % tail)\n",
    "        return None, None\n",
    "\n",
    "    if script_link.endswith('.html'):\n",
    "        title = script_link.split('/')[-1].split(' Script')[0]\n",
    "        script_url = BASE_URL + script_link\n",
    "        script_soup = BeautifulSoup(requests.get(script_url).text, \"html.parser\")\n",
    "        script_text = script_soup.find_all('td', {'class': \"scrtext\"})[0].get_text()\n",
    "        script_text = clean_script(script_text)\n",
    "        return title, script_text\n",
    "    else:\n",
    "        print('%s is a pdf :(' % tail)\n",
    "        return None, None"
   ]
  },
  {
   "cell_type": "code",
   "execution_count": 7,
   "metadata": {},
   "outputs": [
    {
     "name": "stdout",
     "output_type": "stream",
     "text": [
      "fetching 10 Things I Hate About You Script.html\n",
      "fetching 12 Script.html\n",
      "fetching 12 and Holding Script.html\n",
      "fetching 12 Monkeys Script.html\n",
      "fetching 12 Years a Slave Script.html\n",
      "fetching 127 Hours Script.html\n",
      "fetching 1492: Conquest of Paradise Script.html\n",
      "fetching 15 Minutes Script.html\n",
      "fetching 17 Again Script.html\n",
      "fetching 187 Script.html\n",
      "fetching 2001: A Space Odyssey Script.html\n",
      "fetching 2012 Script.html\n",
      "fetching 25th Hour Script.html\n",
      "fetching 28 Days Later Script.html\n",
      "fetching 30 Minutes or Less Script.html\n",
      "fetching 42 Script.html\n"
     ]
    },
    {
     "ename": "UnicodeEncodeError",
     "evalue": "'charmap' codec can't encode characters in position 5078-5079: character maps to <undefined>",
     "output_type": "error",
     "traceback": [
      "\u001b[1;31m---------------------------------------------------------------------------\u001b[0m",
      "\u001b[1;31mUnicodeEncodeError\u001b[0m                        Traceback (most recent call last)",
      "\u001b[1;32m<ipython-input-7-9c3212616d18>\u001b[0m in \u001b[0;36m<module>\u001b[1;34m\u001b[0m\n\u001b[0;32m     12\u001b[0m \u001b[1;33m\u001b[0m\u001b[0m\n\u001b[0;32m     13\u001b[0m     \u001b[1;32mwith\u001b[0m \u001b[0mopen\u001b[0m\u001b[1;33m(\u001b[0m\u001b[0mos\u001b[0m\u001b[1;33m.\u001b[0m\u001b[0mpath\u001b[0m\u001b[1;33m.\u001b[0m\u001b[0mjoin\u001b[0m\u001b[1;33m(\u001b[0m\u001b[0mcorpus_path\u001b[0m\u001b[1;33m,\u001b[0m \u001b[0mscripts_path\u001b[0m\u001b[1;33m,\u001b[0m \u001b[0mtitle\u001b[0m\u001b[1;33m.\u001b[0m\u001b[0mstrip\u001b[0m\u001b[1;33m(\u001b[0m\u001b[1;34m'.html'\u001b[0m\u001b[1;33m)\u001b[0m \u001b[1;33m+\u001b[0m \u001b[1;34m'.txt'\u001b[0m\u001b[1;33m)\u001b[0m\u001b[1;33m,\u001b[0m \u001b[1;34m'w'\u001b[0m\u001b[1;33m)\u001b[0m \u001b[1;32mas\u001b[0m \u001b[0moutfile\u001b[0m\u001b[1;33m:\u001b[0m\u001b[1;33m\u001b[0m\u001b[1;33m\u001b[0m\u001b[0m\n\u001b[1;32m---> 14\u001b[1;33m         \u001b[0moutfile\u001b[0m\u001b[1;33m.\u001b[0m\u001b[0mwrite\u001b[0m\u001b[1;33m(\u001b[0m\u001b[0mscript\u001b[0m\u001b[1;33m)\u001b[0m\u001b[1;33m\u001b[0m\u001b[1;33m\u001b[0m\u001b[0m\n\u001b[0m",
      "\u001b[1;32mc:\\python37\\lib\\encodings\\cp1252.py\u001b[0m in \u001b[0;36mencode\u001b[1;34m(self, input, final)\u001b[0m\n\u001b[0;32m     17\u001b[0m \u001b[1;32mclass\u001b[0m \u001b[0mIncrementalEncoder\u001b[0m\u001b[1;33m(\u001b[0m\u001b[0mcodecs\u001b[0m\u001b[1;33m.\u001b[0m\u001b[0mIncrementalEncoder\u001b[0m\u001b[1;33m)\u001b[0m\u001b[1;33m:\u001b[0m\u001b[1;33m\u001b[0m\u001b[1;33m\u001b[0m\u001b[0m\n\u001b[0;32m     18\u001b[0m     \u001b[1;32mdef\u001b[0m \u001b[0mencode\u001b[0m\u001b[1;33m(\u001b[0m\u001b[0mself\u001b[0m\u001b[1;33m,\u001b[0m \u001b[0minput\u001b[0m\u001b[1;33m,\u001b[0m \u001b[0mfinal\u001b[0m\u001b[1;33m=\u001b[0m\u001b[1;32mFalse\u001b[0m\u001b[1;33m)\u001b[0m\u001b[1;33m:\u001b[0m\u001b[1;33m\u001b[0m\u001b[1;33m\u001b[0m\u001b[0m\n\u001b[1;32m---> 19\u001b[1;33m         \u001b[1;32mreturn\u001b[0m \u001b[0mcodecs\u001b[0m\u001b[1;33m.\u001b[0m\u001b[0mcharmap_encode\u001b[0m\u001b[1;33m(\u001b[0m\u001b[0minput\u001b[0m\u001b[1;33m,\u001b[0m\u001b[0mself\u001b[0m\u001b[1;33m.\u001b[0m\u001b[0merrors\u001b[0m\u001b[1;33m,\u001b[0m\u001b[0mencoding_table\u001b[0m\u001b[1;33m)\u001b[0m\u001b[1;33m[\u001b[0m\u001b[1;36m0\u001b[0m\u001b[1;33m]\u001b[0m\u001b[1;33m\u001b[0m\u001b[1;33m\u001b[0m\u001b[0m\n\u001b[0m\u001b[0;32m     20\u001b[0m \u001b[1;33m\u001b[0m\u001b[0m\n\u001b[0;32m     21\u001b[0m \u001b[1;32mclass\u001b[0m \u001b[0mIncrementalDecoder\u001b[0m\u001b[1;33m(\u001b[0m\u001b[0mcodecs\u001b[0m\u001b[1;33m.\u001b[0m\u001b[0mIncrementalDecoder\u001b[0m\u001b[1;33m)\u001b[0m\u001b[1;33m:\u001b[0m\u001b[1;33m\u001b[0m\u001b[1;33m\u001b[0m\u001b[0m\n",
      "\u001b[1;31mUnicodeEncodeError\u001b[0m: 'charmap' codec can't encode characters in position 5078-5079: character maps to <undefined>"
     ]
    }
   ],
   "source": [
    "response = requests.get('http://www.imsdb.com/all%20scripts/')\n",
    "html = response.text\n",
    "\n",
    "soup = BeautifulSoup(html, \"html.parser\")\n",
    "paragraphs = soup.find_all('p')\n",
    "\n",
    "for p in paragraphs:\n",
    "    relative_link = p.a['href']\n",
    "    title, script = get_script(relative_link)\n",
    "    if not script:\n",
    "        continue\n",
    "\n",
    "    with open(os.path.join(corpus_path, scripts_path, title.strip('.html') + '.txt'), 'w') as outfile:\n",
    "        outfile.write(script)"
   ]
  },
  {
   "cell_type": "code",
   "execution_count": null,
   "metadata": {},
   "outputs": [],
   "source": []
  }
 ],
 "metadata": {
  "kernelspec": {
   "display_name": "Python 3",
   "language": "python",
   "name": "python3"
  },
  "language_info": {
   "codemirror_mode": {
    "name": "ipython",
    "version": 3
   },
   "file_extension": ".py",
   "mimetype": "text/x-python",
   "name": "python",
   "nbconvert_exporter": "python",
   "pygments_lexer": "ipython3",
   "version": "3.7.3"
  }
 },
 "nbformat": 4,
 "nbformat_minor": 2
}
